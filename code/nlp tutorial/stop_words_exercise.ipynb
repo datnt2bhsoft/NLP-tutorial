{
 "cells": [
  {
   "cell_type": "markdown",
   "id": "b17f58fa",
   "metadata": {
    "id": "b17f58fa"
   },
   "source": [
    "###                     **Stop Words: Exercise**"
   ]
  },
  {
   "cell_type": "markdown",
   "id": "23a26def",
   "metadata": {
    "id": "23a26def"
   },
   "source": [
    "- **Run this cell to import all necessary packages**"
   ]
  },
  {
   "cell_type": "code",
   "execution_count": 2,
   "id": "34f02550",
   "metadata": {
    "id": "34f02550"
   },
   "outputs": [
    {
     "name": "stderr",
     "output_type": "stream",
     "text": [
      "2022-12-22 08:23:30.958645: I tensorflow/core/platform/cpu_feature_guard.cc:193] This TensorFlow binary is optimized with oneAPI Deep Neural Network Library (oneDNN) to use the following CPU instructions in performance-critical operations:  AVX2 FMA\n",
      "To enable them in other operations, rebuild TensorFlow with the appropriate compiler flags.\n",
      "2022-12-22 08:23:31.289495: W tensorflow/compiler/xla/stream_executor/platform/default/dso_loader.cc:64] Could not load dynamic library 'libcudart.so.11.0'; dlerror: libcudart.so.11.0: cannot open shared object file: No such file or directory\n",
      "2022-12-22 08:23:31.289512: I tensorflow/compiler/xla/stream_executor/cuda/cudart_stub.cc:29] Ignore above cudart dlerror if you do not have a GPU set up on your machine.\n",
      "2022-12-22 08:23:32.287238: W tensorflow/compiler/xla/stream_executor/platform/default/dso_loader.cc:64] Could not load dynamic library 'libnvinfer.so.7'; dlerror: libnvinfer.so.7: cannot open shared object file: No such file or directory\n",
      "2022-12-22 08:23:32.287306: W tensorflow/compiler/xla/stream_executor/platform/default/dso_loader.cc:64] Could not load dynamic library 'libnvinfer_plugin.so.7'; dlerror: libnvinfer_plugin.so.7: cannot open shared object file: No such file or directory\n",
      "2022-12-22 08:23:32.287312: W tensorflow/compiler/tf2tensorrt/utils/py_utils.cc:38] TF-TRT Warning: Cannot dlopen some TensorRT libraries. If you would like to use Nvidia GPU with TensorRT, please make sure the missing libraries mentioned above are installed properly.\n"
     ]
    }
   ],
   "source": [
    "#import spacy and load the model\n",
    "\n",
    "import spacy\n",
    "nlp = spacy.load(\"en_core_web_sm\")"
   ]
  },
  {
   "cell_type": "markdown",
   "id": "0fe230d8",
   "metadata": {
    "id": "0fe230d8"
   },
   "source": [
    "**Exercise1:** \n",
    "- From a Given Text, Count the number of stop words in it.\n",
    "- Print the percentage of stop word tokens compared to all tokens in a given text."
   ]
  },
  {
   "cell_type": "code",
   "execution_count": 4,
   "id": "646c9e7a",
   "metadata": {
    "colab": {
     "base_uri": "https://localhost:8080/"
    },
    "id": "646c9e7a",
    "outputId": "7d59339e-bf53-4239-eda5-134e6af42e22"
   },
   "outputs": [
    {
     "name": "stdout",
     "output_type": "stream",
     "text": [
      "160\n",
      "40\n",
      "the percentage of stop words: 25.0%\n"
     ]
    }
   ],
   "source": [
    "text = '''\n",
    "Thor: Love and Thunder is a 2022 American superhero film based on Marvel Comics featuring the character Thor, produced by Marvel Studios and \n",
    "distributed by Walt Disney Studios Motion Pictures. It is the sequel to Thor: Ragnarok (2017) and the 29th film in the Marvel Cinematic Universe (MCU).\n",
    "The film is directed by Taika Waititi, who co-wrote the script with Jennifer Kaytin Robinson, and stars Chris Hemsworth as Thor alongside Christian Bale, Tessa Thompson,\n",
    "Jaimie Alexander, Waititi, Russell Crowe, and Natalie Portman. In the film, Thor attempts to find inner peace, but must return to action and recruit Valkyrie (Thompson),\n",
    "Korg (Waititi), and Jane Foster (Portman)—who is now the Mighty Thor—to stop Gorr the God Butcher (Bale) from eliminating all gods.\n",
    "'''\n",
    "\n",
    "#step1: Create the object 'doc' for the given text using nlp()\n",
    "\n",
    "doc = nlp(text)\n",
    "print(len(doc))\n",
    "\n",
    "#step2: define the variables to keep track of stopwords count and total words count\n",
    "\n",
    "total_stopwords = []\n",
    "\n",
    "#step3: iterate through all the words in the document\n",
    "\n",
    "for token in doc:\n",
    "    if token.is_stop:\n",
    "        total_stopwords.append(token.text)\n",
    "\n",
    "#step4: print the count of stop words\n",
    "\n",
    "print(len(total_stopwords))\n",
    "\n",
    "#step5: print the percentage of stop words compared to total words in the text\n",
    "print(\"the percentage of stop words: \" + str(len(total_stopwords)*100/len(doc)) + \"%\")"
   ]
  },
  {
   "cell_type": "markdown",
   "id": "vsJaC5a-ldY-",
   "metadata": {
    "id": "vsJaC5a-ldY-"
   },
   "source": [
    "**Exercise2:** \n",
    "\n",
    "- Spacy default implementation considers **\"not\"** as a stop word. But in some scenarios removing 'not' will completely change the meaning of the statement/text. For Example, consider these two statements:\n",
    "\n",
    "      - this is a good movie       ----> Positive Statement\n",
    "      - this is not a good movie   ----> Negative Statement\n",
    "\n",
    "- So, after applying stopwords to those 2 texts, both will return **\"good movie\"** and does not respect the polarity/sentiments of text.\n",
    "  \n",
    "- Now, your task is to remove this stop word **\"not\"** in spaCy and help in distinguishing the texts.\n",
    "\n",
    "\n",
    "- **Hint:** GOOGLE IT! Google is your friend.\n",
    "\n"
   ]
  },
  {
   "cell_type": "code",
   "execution_count": 10,
   "id": "4e9e663a",
   "metadata": {
    "colab": {
     "base_uri": "https://localhost:8080/"
    },
    "id": "4e9e663a",
    "outputId": "72779ead-6cb9-4f92-da54-3e3a882c2069"
   },
   "outputs": [
    {
     "name": "stdout",
     "output_type": "stream",
     "text": [
      "\n",
      " Thor : Love Thunder 2022 American superhero film based Marvel Comics featuring character Thor , produced Marvel Studios \n",
      " distributed Walt Disney Studios Motion Pictures . sequel Thor : Ragnarok ( 2017 ) 29th film Marvel Cinematic Universe ( MCU ) . \n",
      " film directed Taika Waititi , co - wrote script Jennifer Kaytin Robinson , stars Chris Hemsworth Thor alongside Christian Bale , Tessa Thompson , \n",
      " Jaimie Alexander , Waititi , Russell Crowe , Natalie Portman . film , Thor attempts find inner peace , return action recruit Valkyrie ( Thompson ) , \n",
      " Korg ( Waititi ) , Jane Foster ( Portman)—who Mighty Thor — stop Gorr God Butcher ( Bale ) eliminating gods . \n",
      "\n",
      "good movie\n",
      "not good movie\n"
     ]
    }
   ],
   "source": [
    "#use this pre-processing function to pass the text and to remove all the stop words and finally get the cleaned form\n",
    "def preprocess(text):\n",
    "    doc = nlp(text)\n",
    "    no_stop_words = [token.text for token in doc if not token.is_stop]\n",
    "    return \" \".join(no_stop_words)       \n",
    "\n",
    "\n",
    "#Step1: remove the stopword 'not' in spacy\n",
    "\n",
    "nlp.vocab[\"not\"].is_stop = False\n",
    "\n",
    "#step2: send the two texts given above into the pre-process function and store the transformed texts\n",
    "\n",
    "new_text = preprocess(text)\n",
    "positive_text = preprocess(\"this is a good movie \")\n",
    "negative_text = preprocess(\"this is not a good movie \")\n",
    "\n",
    "#step3: finally print those 2 transformed texts\n",
    "print(new_text)\n",
    "print(positive_text)\n",
    "print(negative_text)"
   ]
  },
  {
   "cell_type": "markdown",
   "id": "RWnHxZy-Fv5S",
   "metadata": {
    "id": "RWnHxZy-Fv5S"
   },
   "source": [
    "**Exercise3:** \n",
    "\n",
    "- From a given text, output the **most frequently** used token after removing all the stop word tokens and punctuations in it. \n",
    "\n"
   ]
  },
  {
   "cell_type": "code",
   "execution_count": 32,
   "id": "551ba41f",
   "metadata": {},
   "outputs": [
    {
     "name": "stdout",
     "output_type": "stream",
     "text": [
      "{'’d', 'themselves', 'meanwhile', 'behind', 'using', 'top', 'also', \"'m\", 'again', 'had', 'how', 'out', 'then', 'its', 'sixty', 'anything', 'somehow', 'them', 'are', 'whereafter', 'at', 'hence', 'amount', 'what', 'but', 'only', 'under', 'else', 'third', '’ve', 'nobody', 'on', 'whenever', 'beside', 'enough', 'would', 'either', 'across', 'yourself', 'sometimes', 'with', 'if', 'show', 'when', 'here', 'get', 'most', 'during', 'us', 'except', 'seemed', 'nine', 'once', 'who', '’m', 'quite', 'not', 'fifty', 'unless', 'forty', 'doing', 'five', 'afterwards', 'than', 'seems', 'they', 'among', 'while', 'now', 'thereafter', 'yourselves', 'within', 'where', 'more', 'been', 'thence', 'below', 'do', 'between', 'neither', 'onto', 'something', 'bottom', 'front', 'him', 'from', 'perhaps', 'me', \"'ve\", 'yours', 'have', 'your', 'fifteen', 'myself', 'hers', 'for', 'such', 'noone', 'off', 'himself', 'were', 'amongst', 'well', 'all', 'about', 'same', 'others', 'itself', 'somewhere', 'through', 'the', 'however', 'am', 'along', 'both', 'per', 'should', 'mostly', 'seem', 'in', 'ca', 'be', 'so', 'much', 'no', 'due', 'four', 're', 'anyone', 'above', '’s', 'move', 'mine', 'everywhere', 'i', 'another', 'besides', 'must', 'made', 'these', 'own', 'keep', 'latter', 'why', 'as', 'several', 'indeed', 'whether', \"'re\", 'part', 'she', 'could', 'he', 'anyway', 'upon', 'rather', 'might', 'hereupon', 'back', 'ourselves', 'six', 'wherein', 'nowhere', '‘m', 'before', 'someone', 'further', 'a', 'nothing', 'nevertheless', 'our', 'around', \"'ll\", 'always', '’ll', 'make', 'side', 'whole', 'there', 'becomes', 'first', '‘re', 'whereby', 'which', 'hereby', 'serious', 'beforehand', 'herein', 'take', 'therefore', 'thereupon', 'throughout', 'yet', 'many', 'elsewhere', 'none', 'via', 'down', 'every', 'one', 'since', 'twelve', 'less', 'will', 'therein', 'moreover', 'say', 'already', 'herself', 'toward', 'anyhow', 'may', 'never', 'although', 'seeming', 'has', 'latterly', 'those', 'very', 'almost', '’re', '‘ll', 'n’t', 'each', 'become', 'being', 'to', 'though', 'beyond', 'otherwise', 'full', 'into', 'other', 'until', 'whose', 'thereby', 'can', 'name', 'hereafter', 'ten', 'ever', 'you', 'even', 'whom', 'anywhere', 'call', 'everyone', 'an', 'empty', 'is', 'go', 'by', 'whence', 'this', 'wherever', 'up', 'still', 'his', 'together', 'her', 'because', '‘d', 'without', 'towards', 'last', 'formerly', 'becoming', 'does', 'their', 'thus', 'nor', 'namely', 'used', 'whither', 'we', 'whereas', 'whoever', 'did', 'whatever', 'former', 'twenty', 'hundred', 'of', 'give', 'was', 'and', 'least', 'everything', 'often', 'that', '‘ve', \"'d\", 'see', 'over', 'regarding', 'next', 'too', 'three', 'alone', 'some', 'became', 'really', 'after', 'ours', 'please', 'any', \"'s\", 'eleven', 'two', 'cannot', 'thru', '‘s', 'few', 'eight', 'done', 'whereupon', 'put', 'my', 'against', 'n‘t', 'sometime', 'or', 'it', 'just', \"n't\", 'various'}\n"
     ]
    }
   ],
   "source": [
    "from spacy.lang.en.stop_words import STOP_WORDS\n",
    "\n",
    "print(STOP_WORDS)"
   ]
  },
  {
   "cell_type": "code",
   "execution_count": 84,
   "id": "3b894a91",
   "metadata": {},
   "outputs": [
    {
     "ename": "TypeError",
     "evalue": "'int' object is not callable",
     "output_type": "error",
     "traceback": [
      "\u001b[0;31m---------------------------------------------------------------------------\u001b[0m",
      "\u001b[0;31mTypeError\u001b[0m                                 Traceback (most recent call last)",
      "\u001b[0;32m/tmp/ipykernel_7180/2928866255.py\u001b[0m in \u001b[0;36m<module>\u001b[0;34m\u001b[0m\n\u001b[1;32m      1\u001b[0m \u001b[0msome_list\u001b[0m \u001b[0;34m=\u001b[0m \u001b[0;34m[\u001b[0m\u001b[0;36m30\u001b[0m\u001b[0;34m,\u001b[0m \u001b[0;36m29\u001b[0m\u001b[0;34m,\u001b[0m \u001b[0;36m31\u001b[0m\u001b[0;34m,\u001b[0m \u001b[0;36m43\u001b[0m\u001b[0;34m,\u001b[0m \u001b[0;36m32\u001b[0m\u001b[0;34m,\u001b[0m \u001b[0;36m38\u001b[0m\u001b[0;34m]\u001b[0m\u001b[0;34m\u001b[0m\u001b[0;34m\u001b[0m\u001b[0m\n\u001b[0;32m----> 2\u001b[0;31m \u001b[0mmax_value\u001b[0m \u001b[0;34m=\u001b[0m \u001b[0mmax\u001b[0m\u001b[0;34m(\u001b[0m\u001b[0msome_list\u001b[0m\u001b[0;34m)\u001b[0m\u001b[0;34m\u001b[0m\u001b[0;34m\u001b[0m\u001b[0m\n\u001b[0m\u001b[1;32m      3\u001b[0m \u001b[0mprint\u001b[0m\u001b[0;34m(\u001b[0m\u001b[0mmax_value\u001b[0m\u001b[0;34m)\u001b[0m\u001b[0;34m\u001b[0m\u001b[0;34m\u001b[0m\u001b[0m\n",
      "\u001b[0;31mTypeError\u001b[0m: 'int' object is not callable"
     ]
    }
   ],
   "source": [
    "some_list = [30, 29, 31, 43, 32, 38]\n",
    "max_value = max(some_list)\n",
    "print(max_value)"
   ]
  },
  {
   "cell_type": "code",
   "execution_count": 85,
   "id": "GfLMTZmBFlPI",
   "metadata": {
    "colab": {
     "base_uri": "https://localhost:8080/"
    },
    "id": "GfLMTZmBFlPI",
    "outputId": "448095a9-954b-43e9-ad86-da7d48aed72c"
   },
   "outputs": [
    {
     "name": "stdout",
     "output_type": "stream",
     "text": [
      "[' ', 'India', 'men', 'national', 'cricket', 'team', 'known', 'Team', 'India', 'Men', 'Blue', 'represents', 'India', 'men', 'international', 'cricket', '\\n', 'governed', 'Board', 'Control', 'Cricket', 'India', 'BCCI', 'Member', 'International', 'Cricket', 'Council', 'ICC', 'Test', '\\n', 'Day', 'International', 'ODI', 'Twenty20', 'International', 'T20I', 'status', 'Cricket', 'introduced', 'India', 'British', 'sailors', '18th', 'century', '\\n', 'cricket', 'club', 'established', '1792', 'India', 'national', 'cricket', 'team', 'played', 'Test', 'match', '25', 'June', '1932', 'Lord', 'sixth', 'team', '\\n', 'granted', 'test', 'cricket', 'status', '\\n']\n",
      "Counter({'India': 6, 'cricket': 5, '\\n': 5, 'team': 3, 'Cricket': 3, 'International': 3, 'men': 2, 'national': 2, 'Test': 2, 'status': 2, ' ': 1, 'known': 1, 'Team': 1, 'Men': 1, 'Blue': 1, 'represents': 1, 'international': 1, 'governed': 1, 'Board': 1, 'Control': 1, 'BCCI': 1, 'Member': 1, 'Council': 1, 'ICC': 1, 'Day': 1, 'ODI': 1, 'Twenty20': 1, 'T20I': 1, 'introduced': 1, 'British': 1, 'sailors': 1, '18th': 1, 'century': 1, 'club': 1, 'established': 1, '1792': 1, 'played': 1, 'match': 1, '25': 1, 'June': 1, '1932': 1, 'Lord': 1, 'sixth': 1, 'granted': 1, 'test': 1})\n"
     ]
    },
    {
     "ename": "TypeError",
     "evalue": "'int' object is not callable",
     "output_type": "error",
     "traceback": [
      "\u001b[0;31m---------------------------------------------------------------------------\u001b[0m",
      "\u001b[0;31mTypeError\u001b[0m                                 Traceback (most recent call last)",
      "\u001b[0;32m/tmp/ipykernel_7180/2723728859.py\u001b[0m in \u001b[0;36m<module>\u001b[0;34m\u001b[0m\n\u001b[1;32m     48\u001b[0m \u001b[0;31m# print(new_dict)\u001b[0m\u001b[0;34m\u001b[0m\u001b[0;34m\u001b[0m\u001b[0m\n\u001b[1;32m     49\u001b[0m \u001b[0mcounter_dict\u001b[0m \u001b[0;34m=\u001b[0m \u001b[0mCounter\u001b[0m\u001b[0;34m(\u001b[0m\u001b[0mnew_dict\u001b[0m\u001b[0;34m)\u001b[0m\u001b[0;34m\u001b[0m\u001b[0;34m\u001b[0m\u001b[0m\n\u001b[0;32m---> 50\u001b[0;31m \u001b[0mmax_counter_1\u001b[0m \u001b[0;34m=\u001b[0m \u001b[0mmax\u001b[0m\u001b[0;34m(\u001b[0m\u001b[0mnew_dict\u001b[0m\u001b[0;34m.\u001b[0m\u001b[0mvalues\u001b[0m\u001b[0;34m(\u001b[0m\u001b[0;34m)\u001b[0m\u001b[0;34m)\u001b[0m\u001b[0;34m\u001b[0m\u001b[0;34m\u001b[0m\u001b[0m\n\u001b[0m\u001b[1;32m     51\u001b[0m \u001b[0;31m# print(max(counter_dict, key=counter_dict.get))\u001b[0m\u001b[0;34m\u001b[0m\u001b[0;34m\u001b[0m\u001b[0m\n\u001b[1;32m     52\u001b[0m \u001b[0;31m#step4: get the maximum frequency word\u001b[0m\u001b[0;34m\u001b[0m\u001b[0;34m\u001b[0m\u001b[0m\n",
      "\u001b[0;31mTypeError\u001b[0m: 'int' object is not callable"
     ]
    }
   ],
   "source": [
    "text = ''' The India men's national cricket team, also known as Team India or the Men in Blue, represents India in men's international cricket.\n",
    "It is governed by the Board of Control for Cricket in India (BCCI), and is a Full Member of the International Cricket Council (ICC) with Test,\n",
    "One Day International (ODI) and Twenty20 International (T20I) status. Cricket was introduced to India by British sailors in the 18th century, and the \n",
    "first cricket club was established in 1792. India's national cricket team played its first Test match on 25 June 1932 at Lord's, becoming the sixth team to be\n",
    "granted test cricket status.\n",
    "'''\n",
    "\n",
    "\n",
    "#step1: Create the object 'doc' for the given text using nlp()\n",
    "\n",
    "doc = nlp(text)\n",
    "# print(doc)\n",
    "\n",
    "#step2: remove all the stop words and punctuations and store all the remaining tokens in a new list\n",
    "\n",
    "# new_text = [token.text for token in doc if (not token.is_stop or not token.is_punct)]\n",
    "# print(new_text)\n",
    "# for token in doc:\n",
    "#     if not token.is_stop or not token.is_punct:\n",
    "#         new_text.append(token.text)\n",
    "new_text = []\n",
    "for token in doc:\n",
    "  if not token.is_stop:    #check whether a given token is stop word or punctuations\n",
    "#     continue\n",
    "    if not token.is_punct:\n",
    "        new_text.append(token.text)\n",
    "\n",
    "print(new_text)\n",
    "\n",
    "from collections import Counter\n",
    "c = Counter(new_text)\n",
    "print(c)\n",
    "# new_text.remove(\" \")\n",
    "\n",
    "# print(new_text)\n",
    "#step3: create a new dictionary and get the frequency of words by iterating through the list which contains stored tokens  \n",
    "# new_dict = []\n",
    "# for word in new_text:\n",
    "#     if word == \"\\n\" or word == \" \":\n",
    "#         new_dic\n",
    "new_dict = {}\n",
    "for word in new_text:\n",
    "    if word != '\\n'and word != ' ': \n",
    "        if word not in new_dict:\n",
    "            new_dict[word] = 1\n",
    "        else:\n",
    "            new_dict[word] += 1\n",
    "# print(new_dict)\n",
    "counter_dict = Counter(new_dict)\n",
    "\n",
    "max_counter_1 = max(new_dict.values())\n",
    "# print(max(counter_dict, key=counter_dict.get))\n",
    "#step4: get the maximum frequency word\n",
    "\n",
    "\n",
    "#step5: finally print the result\n"
   ]
  },
  {
   "cell_type": "markdown",
   "id": "ByUPtcy9EsCn",
   "metadata": {
    "id": "ByUPtcy9EsCn"
   },
   "source": [
    "## [**Solution**](./stop_words_exercise_solutions.ipynb)"
   ]
  }
 ],
 "metadata": {
  "colab": {
   "collapsed_sections": [],
   "name": "stop_words_exercise_solutions.ipynb",
   "provenance": []
  },
  "kernelspec": {
   "display_name": "Python 3 (ipykernel)",
   "language": "python",
   "name": "python3"
  },
  "language_info": {
   "codemirror_mode": {
    "name": "ipython",
    "version": 3
   },
   "file_extension": ".py",
   "mimetype": "text/x-python",
   "name": "python",
   "nbconvert_exporter": "python",
   "pygments_lexer": "ipython3",
   "version": "3.9.15"
  }
 },
 "nbformat": 4,
 "nbformat_minor": 5
}
